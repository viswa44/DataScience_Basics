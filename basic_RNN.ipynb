{
  "nbformat": 4,
  "nbformat_minor": 0,
  "metadata": {
    "colab": {
      "private_outputs": true,
      "provenance": [],
      "gpuType": "T4"
    },
    "kernelspec": {
      "name": "python3",
      "display_name": "Python 3"
    },
    "language_info": {
      "name": "python"
    },
    "accelerator": "GPU"
  },
  "cells": [
    {
      "cell_type": "code",
      "execution_count": null,
      "metadata": {
        "id": "XK2MjPRHlkSg"
      },
      "outputs": [],
      "source": [
        "!pip install tensorflow"
      ]
    },
    {
      "cell_type": "code",
      "source": [
        "from tensorflow.keras.datasets import mnist\n",
        "\n",
        "from tensorflow.keras.utils import to_categorical\n",
        "\n",
        "from tensorflow.keras.models import Sequential\n",
        "\n",
        "from tensorflow.keras.layers import Dense,Flatten,Dropout,Conv2D,MaxPooling2D\n",
        "\n",
        "from tensorflow.keras.optimizers import Adam\n",
        "\n",
        "from tensorflow.keras.loss import SparseCategoricalCrossentropy\n"
      ],
      "metadata": {
        "id": "OwtJG_fCDmEy"
      },
      "execution_count": null,
      "outputs": []
    },
    {
      "cell_type": "code",
      "source": [
        "(xtrain,ytrain),(xtest,ytest)=mnist.load_data()"
      ],
      "metadata": {
        "id": "6xkQenm1Dy7P"
      },
      "execution_count": null,
      "outputs": []
    },
    {
      "cell_type": "markdown",
      "source": [
        "Normalize the images to a pixel value range for 0 to 1"
      ],
      "metadata": {
        "id": "XvofQDK2mc53"
      }
    },
    {
      "cell_type": "code",
      "source": [
        "xtrain,xtest = xtrain/255.0,xtest/255.0"
      ],
      "metadata": {
        "id": "rK5fg3zSFVlX"
      },
      "execution_count": null,
      "outputs": []
    },
    {
      "cell_type": "markdown",
      "source": [
        "convert labels into one-hot encoding"
      ],
      "metadata": {
        "id": "pK0muOixm313"
      }
    },
    {
      "cell_type": "code",
      "source": [
        "ytrain  = to_categorical(ytrain,10)\n",
        "ytest = to_categorical(ytest,10)"
      ],
      "metadata": {
        "id": "jIg4WpInG-Ck"
      },
      "execution_count": null,
      "outputs": []
    },
    {
      "cell_type": "code",
      "source": [
        "model = Sequential([\n",
        "    Flatten(input_shape=(28,28)),\n",
        "    Dense(128,activation='relu'),\n",
        "    Dense(10,activation='softmax')])"
      ],
      "metadata": {
        "id": "VtE16hk5IEU9"
      },
      "execution_count": null,
      "outputs": []
    },
    {
      "cell_type": "code",
      "source": [
        "from tensorflow.keras.losses import MeanSquaredError as mse\n",
        "model.compile(optimizer=Adam(),loss= mse(),metrics=['accuracy'])"
      ],
      "metadata": {
        "id": "WDzZuIFMj8uW"
      },
      "execution_count": null,
      "outputs": []
    },
    {
      "cell_type": "code",
      "source": [
        "model.fit(xtrain,ytrain,epochs=5,batch_size=32)"
      ],
      "metadata": {
        "id": "K7XY5GeBkOeN"
      },
      "execution_count": null,
      "outputs": []
    },
    {
      "cell_type": "code",
      "source": [
        "test_loss,test_accu = model.evaluate(xtest,ytest)"
      ],
      "metadata": {
        "id": "JhkzwGC2kdmy"
      },
      "execution_count": null,
      "outputs": []
    },
    {
      "cell_type": "code",
      "source": [
        "print('\\nTest accuracy:', test_accu*100)\n",
        "print('\\nTest loss:',test_loss*100)"
      ],
      "metadata": {
        "id": "kg3SBMUEkmGS"
      },
      "execution_count": null,
      "outputs": []
    }
  ]
}