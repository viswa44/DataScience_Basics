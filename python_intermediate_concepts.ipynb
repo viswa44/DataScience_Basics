{
  "nbformat": 4,
  "nbformat_minor": 0,
  "metadata": {
    "colab": {
      "private_outputs": true,
      "provenance": [],
      "gpuType": "T4"
    },
    "kernelspec": {
      "name": "python3",
      "display_name": "Python 3"
    },
    "language_info": {
      "name": "python"
    },
    "accelerator": "GPU"
  },
  "cells": [
    {
      "cell_type": "markdown",
      "source": [
        "\n",
        "\n",
        "> inbuilt hash functions\n",
        "\n"
      ],
      "metadata": {
        "id": "vsbyDeQuaSxe"
      }
    },
    {
      "cell_type": "code",
      "source": [
        "name = \"viswatej varma\"\n",
        "print(hash(name))"
      ],
      "metadata": {
        "id": "ArogghGFaXaP"
      },
      "execution_count": null,
      "outputs": []
    },
    {
      "cell_type": "markdown",
      "source": [
        "#ZeroDivision\n",
        "#FileNotFoundError\n",
        "#ValueError"
      ],
      "metadata": {
        "id": "-HhhyLRPfYVM"
      }
    },
    {
      "cell_type": "code",
      "source": [
        "try:\n",
        "  result = 67 / 0\n",
        "except ZeroDivisionError:\n",
        "  print(\"cannot divide by zero\")\n",
        "# except FileNotFoundError:\n",
        "# except ValueError:"
      ],
      "metadata": {
        "id": "Ja0gALOofEWq"
      },
      "execution_count": null,
      "outputs": []
    },
    {
      "cell_type": "code",
      "source": [
        "try:\n",
        "  r = int(\"df\")\n",
        "except ValueError:\n",
        "  print(\"invalid value\")\n"
      ],
      "metadata": {
        "id": "udxsjkiFgNob"
      },
      "execution_count": null,
      "outputs": []
    },
    {
      "cell_type": "code",
      "source": [
        "try:\n",
        "  r = int(\"abc\")\n",
        "except Exception as e:\n",
        "  print(f\"{e}\")"
      ],
      "metadata": {
        "id": "B07uWpcegYBW"
      },
      "execution_count": null,
      "outputs": []
    },
    {
      "cell_type": "code",
      "source": [
        "try :\n",
        "  with open('vj.txt') as file:\n",
        "    pass\n",
        "except FileNotFoundError:\n",
        "  print(\"file not found\")\n"
      ],
      "metadata": {
        "id": "5rQJ0ALpgtXZ"
      },
      "execution_count": null,
      "outputs": []
    },
    {
      "cell_type": "markdown",
      "source": [
        "decorators\n"
      ],
      "metadata": {
        "id": "J5_Q-lgdjHrS"
      }
    },
    {
      "cell_type": "code",
      "source": [
        "def fun1(text):\n",
        "  return text.upper()\n",
        "def fun2(text):\n",
        "  return text.lower()\n",
        "def func3(text):\n",
        "  greet = text(\"ONE TWO THRER\")\n",
        "  print(greet)\n",
        "\n",
        "func3(fun1)\n",
        "func3(fun2)\n"
      ],
      "metadata": {
        "id": "BhcZ97-1jTqP"
      },
      "execution_count": null,
      "outputs": []
    },
    {
      "cell_type": "code",
      "source": [
        "def fun1(func):\n",
        "\n",
        "  def fun2():\n",
        "    print(\"hello\")\n",
        "    func()\n",
        "    print(\"how are you\")\n",
        "  return fun2"
      ],
      "metadata": {
        "id": "LSFLtEVIPo4N"
      },
      "execution_count": null,
      "outputs": []
    },
    {
      "cell_type": "code",
      "source": [
        "@fun1\n",
        "def func3():\n",
        "  print(len(\"viswa\"))\n"
      ],
      "metadata": {
        "id": "M25D-P52RUe-"
      },
      "execution_count": null,
      "outputs": []
    },
    {
      "cell_type": "code",
      "source": [
        "func3()"
      ],
      "metadata": {
        "id": "tuvJQYx4WGy5"
      },
      "execution_count": null,
      "outputs": []
    },
    {
      "cell_type": "markdown",
      "source": [
        "Generators"
      ],
      "metadata": {
        "id": "qmKc261VnhpB"
      }
    },
    {
      "cell_type": "code",
      "source": [
        "def gen():\n",
        "  yield 234\n",
        "  yield 2\n",
        "  yield 3\n",
        "x = gen()\n",
        "print(x.__next__())\n",
        "print(x.__next__())\n",
        "print(x.__next__())"
      ],
      "metadata": {
        "id": "2KhD-X31nf7Q"
      },
      "execution_count": null,
      "outputs": []
    },
    {
      "cell_type": "code",
      "source": [
        "sq = (i*i for i in range(10))\n",
        "for i in sq:\n",
        "  print(i)"
      ],
      "metadata": {
        "id": "iUXFxZ4Uorno"
      },
      "execution_count": null,
      "outputs": []
    },
    {
      "cell_type": "code",
      "source": [
        "def fibonacci_numbers(nums):\n",
        "    x, y = 0, 1\n",
        "    for _ in range(nums):\n",
        "        x, y = y, x+y\n",
        "        yield x\n",
        "\n",
        "def square(nums):\n",
        "    for num in nums:\n",
        "        yield num**2\n",
        "\n",
        "print(sum(square(fibonacci_numbers(10))))\n"
      ],
      "metadata": {
        "id": "6Pq0wdcWazvU"
      },
      "execution_count": null,
      "outputs": []
    },
    {
      "cell_type": "code",
      "source": [
        "l = [4,6,7,4,6,7,9]\n",
        "[i*i for i in l]"
      ],
      "metadata": {
        "id": "RdRipnsFqbre"
      },
      "execution_count": null,
      "outputs": []
    },
    {
      "cell_type": "code",
      "source": [
        "for i,j in enumerate(j*j for j in range(20)):\n",
        "  print(i,j)"
      ],
      "metadata": {
        "id": "stpL7QSoo5Pp"
      },
      "execution_count": null,
      "outputs": []
    },
    {
      "cell_type": "markdown",
      "source": [
        "dict comprehensions"
      ],
      "metadata": {
        "id": "9lWlSMbdwkCl"
      }
    },
    {
      "cell_type": "code",
      "source": [
        "numbers = [1, 2, 3, 4, 5]\n",
        "squares = {num: num**2 for num in numbers}\n",
        "print(type(squares))"
      ],
      "metadata": {
        "id": "oh9uU1bto-8L"
      },
      "execution_count": null,
      "outputs": []
    },
    {
      "cell_type": "markdown",
      "source": [
        "\n",
        "\n",
        "```\n",
        "# Saving time using chache\n",
        "```\n",
        "\n",
        "# Cache python program using python"
      ],
      "metadata": {
        "id": "dCnKRMdN_bX9"
      }
    },
    {
      "cell_type": "code",
      "source": [
        "## import libraries\n",
        "import time\n",
        "from functools import lru_cache"
      ],
      "metadata": {
        "id": "To0fs17r_mR2"
      },
      "execution_count": null,
      "outputs": []
    },
    {
      "cell_type": "markdown",
      "source": [
        "Define function"
      ],
      "metadata": {
        "id": "ewY1sX1d_xs_"
      }
    },
    {
      "cell_type": "code",
      "source": [
        "@lru_cache(maxsize = None)\n",
        "def fib(n):\n",
        "  if n<2:\n",
        "    return n\n",
        "  return fib(n-1)+fib(n-2)"
      ],
      "metadata": {
        "id": "NtMSTVvu_zpm"
      },
      "execution_count": null,
      "outputs": []
    },
    {
      "cell_type": "code",
      "source": [
        "import time\n"
      ],
      "metadata": {
        "id": "SESq4kk5IfJE"
      },
      "execution_count": null,
      "outputs": []
    },
    {
      "cell_type": "code",
      "source": [
        "# Without caching\n",
        "start_time = time.time()\n",
        "print(\"Without caching:\")\n",
        "for i in range(30):\n",
        "    print(f\"fib({i}) = {fib(i)}\")\n",
        "print(f\"Time taken: {time.time() - start_time} seconds\")\n",
        "\n",
        "# Clear the cache\n",
        "fib.cache_clear()\n",
        "\n",
        "# With caching\n",
        "start_time = time.time()\n",
        "print(\"\\nWith caching:\")\n",
        "for i in range(30):\n",
        "    print(f\"fib({i}) = {fib(i)}\")\n",
        "print(f\"Time taken: {time.time() - start_time} seconds\")"
      ],
      "metadata": {
        "id": "0Hy6JjzhGq1t"
      },
      "execution_count": null,
      "outputs": []
    },
    {
      "cell_type": "markdown",
      "source": [
        "Conclusion\n",
        "Small Inputs: For small input sizes or a single run with non-repeated values, the overhead of caching may not provide a significant advantage and might even be slightly slower.\n",
        "Large Inputs / Repeated Calls: For larger input sizes or when the function is called multiple times with the same arguments, caching can greatly improve performance by avoiding redundant calculations."
      ],
      "metadata": {
        "id": "xctbyk3JJvNx"
      }
    },
    {
      "cell_type": "markdown",
      "source": [
        "asycio ||\n",
        "multiprocessing"
      ],
      "metadata": {
        "id": "O7yxLSEmK-wF"
      }
    },
    {
      "cell_type": "code",
      "source": [
        "#asycio\n",
        "#threading\n",
        "#multiprocessing - Pool"
      ],
      "metadata": {
        "id": "vSYE7L95NFSy"
      },
      "execution_count": null,
      "outputs": []
    },
    {
      "cell_type": "code",
      "source": [
        "#GIL prevents to access all threads to access the same data at same point of time."
      ],
      "metadata": {
        "id": "wTh1NFDoS0fM"
      },
      "execution_count": null,
      "outputs": []
    },
    {
      "cell_type": "code",
      "source": [],
      "metadata": {
        "id": "vbks-hbrTL5l"
      },
      "execution_count": null,
      "outputs": []
    }
  ]
}